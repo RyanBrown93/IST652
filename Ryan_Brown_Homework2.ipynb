{
 "cells": [
  {
   "cell_type": "code",
   "execution_count": 1,
   "metadata": {},
   "outputs": [
    {
     "name": "stdout",
     "output_type": "stream",
     "text": [
      "Data has been successfully imported into SQLite!\n"
     ]
    }
   ],
   "source": [
    "import json\n",
    "import sqlite3\n",
    "\n",
    "# Connect to SQLite database (or create it if it doesn't exist)\n",
    "conn = sqlite3.connect('businesses.db')\n",
    "cursor = conn.cursor()\n",
    "\n",
    "# Create table if it does not exist\n",
    "cursor.execute('''\n",
    "CREATE TABLE IF NOT EXISTS businesses (\n",
    "    business_id TEXT PRIMARY KEY,\n",
    "    name TEXT,\n",
    "    address TEXT,\n",
    "    city TEXT,\n",
    "    state TEXT,\n",
    "    postal_code TEXT,\n",
    "    latitude REAL,\n",
    "    longitude REAL,\n",
    "    stars REAL,\n",
    "    review_count INTEGER,\n",
    "    is_open INTEGER,\n",
    "    attributes TEXT,\n",
    "    categories TEXT,\n",
    "    hours TEXT\n",
    ")\n",
    "''')\n",
    "\n",
    "# Open the JSON file\n",
    "file_path = '/Users/broiwniemixxx/Desktop/yelp_academic_dataset_business.json'\n",
    "\n",
    "# Read and insert data\n",
    "with open(file_path, 'r') as file:\n",
    "    for line in file:\n",
    "        try:\n",
    "            data = json.loads(line)\n",
    "            cursor.execute('''\n",
    "            INSERT OR REPLACE INTO businesses (\n",
    "                business_id, name, address, city, state, postal_code, latitude, longitude, stars, review_count, is_open, attributes, categories, hours\n",
    "            ) VALUES (?, ?, ?, ?, ?, ?, ?, ?, ?, ?, ?, ?, ?, ?)\n",
    "            ''', (\n",
    "                data.get('business_id'),\n",
    "                data.get('name'),\n",
    "                data.get('address'),\n",
    "                data.get('city'),\n",
    "                data.get('state'),\n",
    "                data.get('postal_code'),\n",
    "                data.get('latitude'),\n",
    "                data.get('longitude'),\n",
    "                data.get('stars'),\n",
    "                data.get('review_count'),\n",
    "                data.get('is_open'),\n",
    "                json.dumps(data.get('attributes')),  # Convert dict to JSON string\n",
    "                data.get('categories'),\n",
    "                json.dumps(data.get('hours'))  # Convert dict to JSON string\n",
    "            ))\n",
    "        except json.JSONDecodeError as e:\n",
    "            print(f\"Error parsing JSON: {e}\")\n",
    "\n",
    "# Commit and close\n",
    "conn.commit()\n",
    "conn.close()\n",
    "\n",
    "print(\"Data has been successfully imported into SQLite!\")"
   ]
  },
  {
   "cell_type": "code",
   "execution_count": 3,
   "metadata": {},
   "outputs": [
    {
     "data": {
      "text/plain": [
       "{'business_id': 'jV_XOycEzSlTx-65W906pg',\n",
       " 'name': 'Sic Ink',\n",
       " 'address': '238 Apollo Beach Blvd',\n",
       " 'city': 'Apollo beach',\n",
       " 'state': 'FL',\n",
       " 'postal_code': '33572',\n",
       " 'latitude': 27.771002,\n",
       " 'longitude': -82.3949096,\n",
       " 'stars': 4.5,\n",
       " 'review_count': 9,\n",
       " 'is_open': 1,\n",
       " 'attributes': {'WheelchairAccessible': 'True',\n",
       "  'BusinessAcceptsBitcoin': 'False',\n",
       "  'RestaurantsPriceRange2': '1',\n",
       "  'BusinessAcceptsCreditCards': 'True',\n",
       "  'BusinessParking': \"{'garage': False, 'street': False, 'validated': False, 'lot': True, 'valet': False}\",\n",
       "  'BikeParking': 'False',\n",
       "  'WiFi': \"u'free'\",\n",
       "  'ByAppointmentOnly': 'False'},\n",
       " 'categories': 'Beauty & Spas, Permanent Makeup, Piercing, Tattoo',\n",
       " 'hours': {'Tuesday': '12:0-19:0',\n",
       "  'Wednesday': '12:0-19:0',\n",
       "  'Thursday': '12:0-19:0',\n",
       "  'Friday': '12:0-19:0',\n",
       "  'Saturday': '12:0-19:0'}}"
      ]
     },
     "execution_count": 3,
     "metadata": {},
     "output_type": "execute_result"
    }
   ],
   "source": [
    "data"
   ]
  },
  {
   "cell_type": "code",
   "execution_count": 5,
   "metadata": {},
   "outputs": [
    {
     "name": "stdout",
     "output_type": "stream",
     "text": [
      "Data has been successfully cleaned and saved to /Users/broiwniemixxx/Desktop/yelp_businesses_cleaned.csv!\n"
     ]
    }
   ],
   "source": [
    "import json\n",
    "import pandas as pd\n",
    "\n",
    "# Open the JSON file\n",
    "file_path = '/Users/broiwniemixxx/Desktop/yelp_academic_dataset_business.json'\n",
    "\n",
    "# Create an empty list to store the data\n",
    "data_list = []\n",
    "\n",
    "# Read file line-by-line if it's JSON lines format (multiple JSON objects per line)\n",
    "with open(file_path, 'r') as file:\n",
    "    for line in file:\n",
    "        try:\n",
    "            # Parse each line as an individual JSON object\n",
    "            data = json.loads(line)\n",
    "            # Append the data to the list\n",
    "            data_list.append(data)\n",
    "        except json.JSONDecodeError as e:\n",
    "            print(f\"Error parsing JSON: {e}\")\n",
    "\n",
    "# Convert the list of data to a pandas DataFrame\n",
    "df = pd.DataFrame(data_list)\n",
    "\n",
    "# Clean and format the DataFrame\n",
    "df = df.rename(columns={\n",
    "    'business_id': 'Business ID',\n",
    "    'name': 'Name',\n",
    "    'address': 'Address',\n",
    "    'city': 'City',\n",
    "    'state': 'State',\n",
    "    'postal_code': 'Postal Code',\n",
    "    'latitude': 'Latitude',\n",
    "    'longitude': 'Longitude',\n",
    "    'stars': 'Stars',\n",
    "    'review_count': 'Review Count',\n",
    "    'is_open': 'Is Open',\n",
    "    'attributes': 'Attributes',\n",
    "    'categories': 'Categories',\n",
    "    'hours': 'Hours'\n",
    "})\n",
    "\n",
    "# Convert JSON fields to string for better readability\n",
    "df['Attributes'] = df['Attributes'].apply(lambda x: json.dumps(x) if isinstance(x, dict) else x)\n",
    "df['Hours'] = df['Hours'].apply(lambda x: json.dumps(x) if isinstance(x, dict) else x)\n",
    "\n",
    "# Save the DataFrame to a CSV file\n",
    "csv_file_path = '/Users/broiwniemixxx/Desktop/yelp_businesses_cleaned.csv'\n",
    "df.to_csv(csv_file_path, index=False)\n",
    "\n",
    "print(f\"Data has been successfully cleaned and saved to {csv_file_path}!\")\n"
   ]
  },
  {
   "cell_type": "code",
   "execution_count": null,
   "metadata": {},
   "outputs": [],
   "source": []
  }
 ],
 "metadata": {
  "kernelspec": {
   "display_name": "Python 3 (ipykernel)",
   "language": "python",
   "name": "python3"
  },
  "language_info": {
   "codemirror_mode": {
    "name": "ipython",
    "version": 3
   },
   "file_extension": ".py",
   "mimetype": "text/x-python",
   "name": "python",
   "nbconvert_exporter": "python",
   "pygments_lexer": "ipython3",
   "version": "3.12.4"
  }
 },
 "nbformat": 4,
 "nbformat_minor": 4
}
