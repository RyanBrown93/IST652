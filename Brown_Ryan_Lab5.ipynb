{
 "cells": [
  {
   "cell_type": "code",
   "execution_count": 16,
   "id": "b0fb32b3-bce9-434c-9d50-e211956e05a1",
   "metadata": {},
   "outputs": [],
   "source": [
    "def check_integers(lst):\n",
    "    count_19 = 0\n",
    "    count_5 = 0\n",
    "    \n",
    "    for num in lst:\n",
    "        if num == 19:\n",
    "            count_19 += 1\n",
    "        if num == 5:\n",
    "            count_5 += 1\n",
    "    \n",
    "    if count_19 == 2 and count_5 >= 3:\n",
    "        return True\n",
    "    else:\n",
    "        return False"
   ]
  },
  {
   "cell_type": "code",
   "execution_count": 20,
   "id": "f8197a58-fd66-454b-ba82-b5ce8b1367a3",
   "metadata": {},
   "outputs": [
    {
     "name": "stdout",
     "output_type": "stream",
     "text": [
      "True {2: 1, 3: 1, 5: 3, 15: 1, 19: 2}\n"
     ]
    }
   ],
   "source": [
    "lst1 = [19, 19, 15, 5, 3, 5, 5, 2]\n",
    "result1, counts1 = check_list(lst1)\n",
    "print(result1, counts1)"
   ]
  },
  {
   "cell_type": "code",
   "execution_count": 22,
   "id": "4913c33b-c22c-4a9c-93be-eb759a293227",
   "metadata": {},
   "outputs": [
    {
     "name": "stdout",
     "output_type": "stream",
     "text": [
      "False {2: 1, 3: 2, 5: 2, 15: 2, 19: 1}\n"
     ]
    }
   ],
   "source": [
    "lst2 = [19, 15, 15, 5, 3, 3, 5, 2]\n",
    "result2, counts2 = check_list(lst2)\n",
    "print(result2, counts2)"
   ]
  },
  {
   "cell_type": "code",
   "execution_count": 24,
   "id": "b3207a98-8e83-4375-8dcb-148a9c07e70e",
   "metadata": {},
   "outputs": [],
   "source": [
    "def find_longest_string(lst):\n",
    "    max_length = 0\n",
    "    longest_string = ''\n",
    "    for string in lst:\n",
    "        if len(string) > max_length:\n",
    "            max_length = len(string)\n",
    "            longest_string = string\n",
    "    return longest_string"
   ]
  },
  {
   "cell_type": "code",
   "execution_count": 26,
   "id": "8c978761-ffcc-41cd-baa7-1d4202cc4820",
   "metadata": {},
   "outputs": [
    {
     "name": "stdout",
     "output_type": "stream",
     "text": [
      "Input list: ['cat', 'car', 'fear', 'center']\n",
      "Longest string: center\n"
     ]
    }
   ],
   "source": [
    "input_list = ['cat', 'car', 'fear', 'center']\n",
    "longest_string = find_longest_string(input_list)\n",
    "print(\"Input list:\", input_list)\n",
    "print(\"Longest string:\", longest_string)"
   ]
  },
  {
   "cell_type": "code",
   "execution_count": 28,
   "id": "bd2df8f9-4f1b-4a54-aaa5-f7789a65c94c",
   "metadata": {},
   "outputs": [
    {
     "name": "stdout",
     "output_type": "stream",
     "text": [
      "Input list: ['cat', 'dog', 'shatter', 'donut', 'at', 'todo', '']\n",
      "Longest string: shatter\n"
     ]
    }
   ],
   "source": [
    "input_list = ['cat', 'dog', 'shatter', 'donut', 'at', 'todo', '']\n",
    "longest_string = find_longest_string(input_list)\n",
    "print(\"Input list:\", input_list)\n",
    "print(\"Longest string:\", longest_string)"
   ]
  },
  {
   "cell_type": "code",
   "execution_count": null,
   "id": "696bafa2-86d6-4091-b14d-74e2dd7f4ec8",
   "metadata": {},
   "outputs": [],
   "source": []
  }
 ],
 "metadata": {
  "kernelspec": {
   "display_name": "Python 3 (ipykernel)",
   "language": "python",
   "name": "python3"
  },
  "language_info": {
   "codemirror_mode": {
    "name": "ipython",
    "version": 3
   },
   "file_extension": ".py",
   "mimetype": "text/x-python",
   "name": "python",
   "nbconvert_exporter": "python",
   "pygments_lexer": "ipython3",
   "version": "3.12.4"
  }
 },
 "nbformat": 4,
 "nbformat_minor": 5
}
